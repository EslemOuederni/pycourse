{
  "cells": [
    {
      "metadata": {
        "collapsed": true
      },
      "cell_type": "markdown",
      "source": "# Introduction to Programming with Python\n\n# Unit 2: Functions\n\nLet us start with doing the exercise given in the previous lesson: drawing a house. First of all, let's take care of importing the Turtle module:"
    },
    {
      "metadata": {
        "trusted": true
      },
      "cell_type": "code",
      "source": "!pip install --upgrade git+https://github.com/shwars/jturtle\n#!pip install --upgrade --quiet git+https://github.com/shwars/jturtle\nimport jturtle as turtle",
      "execution_count": 1,
      "outputs": [
        {
          "output_type": "stream",
          "text": "Collecting git+https://github.com/shwars/jturtle\n  Cloning https://github.com/shwars/jturtle to /tmp/pip-req-build-x2dae8n6\n  Running command git clone -q https://github.com/shwars/jturtle /tmp/pip-req-build-x2dae8n6\nRequirement already satisfied, skipping upgrade: matplotlib in /home/nbuser/anaconda3_501/lib/python3.6/site-packages (from jturtle==0.0.2) (3.0.0)\nRequirement already satisfied, skipping upgrade: numpy>=1.10.0 in /home/nbuser/anaconda3_501/lib/python3.6/site-packages (from matplotlib->jturtle==0.0.2) (1.16.2)\nRequirement already satisfied, skipping upgrade: cycler>=0.10 in /home/nbuser/anaconda3_501/lib/python3.6/site-packages (from matplotlib->jturtle==0.0.2) (0.10.0)\nRequirement already satisfied, skipping upgrade: kiwisolver>=1.0.1 in /home/nbuser/anaconda3_501/lib/python3.6/site-packages (from matplotlib->jturtle==0.0.2) (1.0.1)\nRequirement already satisfied, skipping upgrade: pyparsing!=2.0.4,!=2.1.2,!=2.1.6,>=2.0.1 in /home/nbuser/anaconda3_501/lib/python3.6/site-packages (from matplotlib->jturtle==0.0.2) (2.3.0)\nRequirement already satisfied, skipping upgrade: python-dateutil>=2.1 in /home/nbuser/anaconda3_501/lib/python3.6/site-packages (from matplotlib->jturtle==0.0.2) (2.8.1)\nRequirement already satisfied, skipping upgrade: six in /home/nbuser/anaconda3_501/lib/python3.6/site-packages (from cycler>=0.10->matplotlib->jturtle==0.0.2) (1.11.0)\nRequirement already satisfied, skipping upgrade: setuptools in /home/nbuser/anaconda3_501/lib/python3.6/site-packages (from kiwisolver>=1.0.1->matplotlib->jturtle==0.0.2) (41.6.0)\nBuilding wheels for collected packages: jturtle\n  Building wheel for jturtle (setup.py) ... \u001b[?25ldone\n\u001b[?25h  Created wheel for jturtle: filename=jturtle-0.0.2-cp36-none-any.whl size=4366 sha256=983ff205975cbffa38743cd78a4e9fbf80759a81ee4d53e5c583c9c59890740f\n  Stored in directory: /tmp/pip-ephem-wheel-cache-rcscp6ol/wheels/b1/a0/cf/69a10443fbbdf891a264a294fcf77e4d1f855ee985df6fb98d\nSuccessfully built jturtle\nInstalling collected packages: jturtle\n  Found existing installation: jturtle 0.0.2\n    Uninstalling jturtle-0.0.2:\n      Successfully uninstalled jturtle-0.0.2\nSuccessfully installed jturtle-0.0.2\n\u001b[33mWARNING: You are using pip version 19.3.1; however, version 20.0.1 is available.\nYou should consider upgrading via the 'pip install --upgrade pip' command.\u001b[0m\n",
          "name": "stdout"
        }
      ]
    },
    {
      "metadata": {},
      "cell_type": "markdown",
      "source": "To simplify writing, let us use a variable `size` to represent the size of the house. First thing we need to do is to draw a square:"
    },
    {
      "metadata": {
        "trusted": true,
        "scrolled": true
      },
      "cell_type": "code",
      "source": "size=120\nturtle.forward(size)\nturtle.right(90)\nturtle.forward(size)\nturtle.right(90)\nturtle.forward(size)\nturtle.right(90)\nturtle.forward(size)\nturtle.right(90)\nturtle.done()",
      "execution_count": 4,
      "outputs": [
        {
          "output_type": "display_data",
          "data": {
            "image/png": "[encoded data removed]",
            "text/plain": "<Figure size 432x288 with 1 Axes>"
          },
          "metadata": {
            "needs_background": "light"
          }
        }
      ]
    },
    {
      "metadata": {},
      "cell_type": "markdown",
      "source": "Now, after drawing the main square, let us draw the roof. After the code above, the turtle is in the low left corner of the square, so we need to move up, and then draw a triangle:"
    },
    {
      "metadata": {
        "trusted": true
      },
      "cell_type": "code",
      "source": "turtle.forward(size)\nturtle.right(90)\nturtle.forward(size)\nturtle.right(90)\nturtle.forward(size)\nturtle.right(90)\nturtle.forward(size)\nturtle.right(90)\n\nturtle.forward(size)\nturtle.right(30)\nturtle.forward(size)\nturtle.right(120)\nturtle.forward(size)\nturtle.right(120)\nturtle.done()",
      "execution_count": 9,
      "outputs": [
        {
          "output_type": "display_data",
          "data": {
            "image/png": "[encoded data removed]",
            "text/plain": "<Figure size 432x288 with 1 Axes>"
          },
          "metadata": {
            "needs_background": "light"
          }
        }
      ]
    },
    {
      "metadata": {},
      "cell_type": "markdown",
      "source": "Finally, to draw a window, we need to put the pen up to stop drawing, move 2/3 of the `size` down and 1/3 left, and draw a smaller square:"
    },
    {
      "metadata": {
        "trusted": true
      },
      "cell_type": "code",
      "source": "# Draw a square\nturtle.forward(size)\nturtle.right(90)\nturtle.forward(size)\nturtle.right(90)\nturtle.forward(size)\nturtle.right(90)\nturtle.forward(size)\nturtle.right(90)\n\n# Draw the roof\nturtle.forward(size)\nturtle.right(30)\nturtle.forward(size)\nturtle.right(120)\nturtle.forward(size)\nturtle.right(30)\n\n# Position pen inside\nturtle.penup()\nturtle.forward(2*size/3)\nturtle.right(90)\nturtle.forward(size/3)\nturtle.pendown()\n\n# Draw a window\nturtle.forward(size/3)\nturtle.right(90)\nturtle.forward(size/3)\nturtle.right(90)\nturtle.forward(size/3)\nturtle.right(90)\nturtle.forward(size/3)\nturtle.right(90)\n\nturtle.done()",
      "execution_count": 17,
      "outputs": [
        {
          "output_type": "display_data",
          "data": {
            "image/png": "[encoded data removed]",
            "text/plain": "<Figure size 432x288 with 1 Axes>"
          },
          "metadata": {
            "needs_background": "light"
          }
        }
      ]
    },
    {
      "metadata": {},
      "cell_type": "markdown",
      "source": "You can notice that as the program becomes rather big, it is also getting more difficult to understand. One thing to simplify understanding a program is by using **comments**. Comments are pieces of text that can be embedded into the program, and which are ignored by Python. Anything that starts with `#` sign and until the end of line is considered a comment, and is discarded.\n\nYou can use comments to provide some description of what is going on, to help other programmers to understand your code better. Also, if you want for some reason to temporarily exclude a piece of code from your program, you can use comments to *comment it out*.\n\nIn the program above, we have provided a few comments to help us understand what each part of the program is doing. Also, we have used empty lines to create some logical grouping of code. This also helps to understand the program. Please remember that you can use any number of empty lines anywhere in between your program lines.\n\nHowever, just comments would not help us to fight complexity. Another extremely useful technique is called **functions**."
    },
    {
      "metadata": {},
      "cell_type": "markdown",
      "source": "## Introducing Functions\n\nIn this example, we need to draw squares twice --- first, to make the outline of the house, and then to draw the window inside. In fact, drawing a square (as well as other geometric figures, such as triangles, or circles) can be considered quite a common task, from which more complex drawings can be made. You can argue that is would make sense to include `square` as one of the turtle's built-in commands...\n\nLuckily, we can **define our own command** to draw a square. In fact, any piece of Python code that has some logical meaning can be grouped together into a **function**. Functions are defined using special `def` keyword. Have a look at the definition of a function to draw a square:"
    },
    {
      "metadata": {
        "trusted": true
      },
      "cell_type": "code",
      "source": "def square(x):\n    turtle.forward(x)\n    turtle.right(90)\n    turtle.forward(x)\n    turtle.right(90)\n    turtle.forward(x)\n    turtle.right(90)\n    turtle.forward(x)\n    turtle.right(90)",
      "execution_count": 19,
      "outputs": []
    },
    {
      "metadata": {},
      "cell_type": "markdown",
      "source": "When we write this code, nothing is drawn on the screen --- we just specify the list of commands that comprise a function. Now to actually draw a square we need to **call** this function:"
    },
    {
      "metadata": {
        "trusted": true
      },
      "cell_type": "code",
      "source": "square(100)\nturtle.done()",
      "execution_count": 21,
      "outputs": [
        {
          "output_type": "display_data",
          "data": {
            "image/png": "[encoded data removed]",
            "text/plain": "<Figure size 432x288 with 1 Axes>"
          },
          "metadata": {
            "needs_background": "light"
          }
        }
      ]
    },
    {
      "metadata": {},
      "cell_type": "markdown",
      "source": "Because we need to draw squares of different sizes, this function has one **argument**, or **parameter**. It is denoted by `(x)` after the function's name, and it is in fact a kind of variable, which takes the value that is passed to the function during the call. In the case above, we have called the function `square(100)`, so in the functions's body variable `x` will be equal to 100. We can use any expression in place of a parameter, for example `square(size/2+10)` would be a perfectly valid call.\n\nNow that we have defined the `square` function, we can simplify drawing a house:"
    },
    {
      "metadata": {
        "trusted": true
      },
      "cell_type": "code",
      "source": "square(size)\n\nturtle.forward(size)\nturtle.right(30)\nturtle.forward(size)\nturtle.right(120)\nturtle.forward(size)\nturtle.right(30)\n\nturtle.penup()\nturtle.forward(2*size/3)\nturtle.right(90)\nturtle.forward(size/3)\nturtle.pendown()\n\nsquare(size/3)\n\nturtle.done()",
      "execution_count": 24,
      "outputs": [
        {
          "output_type": "display_data",
          "data": {
            "image/png": "[encoded data removed]",
            "text/plain": "<Figure size 432x288 with 1 Axes>"
          },
          "metadata": {
            "needs_background": "light"
          }
        }
      ]
    },
    {
      "metadata": {},
      "cell_type": "markdown",
      "source": "Inside functions we can of course call other functions. As a simple exercise, please take the code that draws a house above, and turn it into a function with one parameter -- the size of the house. Put your code in the cell below, and test it:"
    },
    {
      "metadata": {
        "trusted": true
      },
      "cell_type": "code",
      "source": "",
      "execution_count": null,
      "outputs": []
    },
    {
      "metadata": {},
      "cell_type": "markdown",
      "source": "## Blocks and Line Indentation\n\nYou may have noticed that when defining `square` function we have indented all the lines inside a function by a few spaces, like that:\n\n```python\ndef square(x):\n    turtle.forward(x)\n    turtle.right(90)\n    ...\n```\nThis indentation is important, because it tells Python where the function ends, and the next part of the program begins. For example, if we want to define two functions, we will indent the code as follows:\n\n```python\ndef square(x):\n    turtle.forward(x)\n    turtle.right(90)\n    ...\n\ndef triangle(x):\n    turtle.forward(x)\n    turtle.right(120)\n    ...\n    \nsquare(50)\ntriangle(50)\n```\n\nThe indented piece of code is called a **block**, so you can say that a function definition consists of a `def` statement, followed by a code block. We will see this concept later on as well, when dealing with looks and conditional statements."
    },
    {
      "metadata": {},
      "cell_type": "markdown",
      "source": "## Functions that Return a Value\n\nIn some cases, functions just do something, like drawing a square. However, sometimes we want functions that calculate something and give back the result. We say that those functions **return** a value.\n\nConsider the first exercise from the previous lesson, where you had to calculate the amount of money on a bank deposit given an interest rate of 2.5%. We can write a function that will calculate how much money we will get after one year: "
    },
    {
      "metadata": {
        "trusted": true
      },
      "cell_type": "code",
      "source": "def interest(amount, rate):\n    x = amount * (1+rate/100)\n    return x",
      "execution_count": 25,
      "outputs": []
    },
    {
      "metadata": {},
      "cell_type": "markdown",
      "source": "In this function, `amount` is the amount of money we currently have, and `rate` is the yearly interest rate in percents. We calculate the amount after one year and denote it by `x`, and then return this value using the `return` statement.\n\nTo call this function, we can use the following syntax:"
    },
    {
      "metadata": {
        "trusted": true
      },
      "cell_type": "code",
      "source": "result = interest(100, 2.5)\nprint(result)",
      "execution_count": 26,
      "outputs": [
        {
          "output_type": "stream",
          "text": "102.49999999999999\n",
          "name": "stdout"
        }
      ]
    },
    {
      "metadata": {},
      "cell_type": "markdown",
      "source": "We can also directly use `interest` in any expression, for example, just to print the amount in one year, we can write"
    },
    {
      "metadata": {
        "trusted": true
      },
      "cell_type": "code",
      "source": "interest(100, 2.5)",
      "execution_count": 27,
      "outputs": [
        {
          "output_type": "execute_result",
          "execution_count": 27,
          "data": {
            "text/plain": "102.49999999999999"
          },
          "metadata": {}
        }
      ]
    },
    {
      "metadata": {},
      "cell_type": "markdown",
      "source": "And to calculate the resulting amount in two years:"
    },
    {
      "metadata": {
        "trusted": true
      },
      "cell_type": "code",
      "source": "interest(interest(100, 2.5),2.5)",
      "execution_count": 28,
      "outputs": [
        {
          "output_type": "execute_result",
          "execution_count": 28,
          "data": {
            "text/plain": "105.06249999999997"
          },
          "metadata": {}
        }
      ]
    },
    {
      "metadata": {},
      "cell_type": "markdown",
      "source": "## Local and Global Variables\n\nIn our function, we were using the variable `x` to perform the calculation. Such variables that are used only inside functions are called **local variables**, and they only exist inside the function. If we try to print the value of `x` after calling the function `interest` we will get an error that such a variable does not exist. \n\nA variable defined outside a function is called **global variable**, and all such variables are also accessible from inside the function. For example, if the interest rate is more or less the same in all our computations, we may chose to define it as a global variable, in order not to pass it around each time: "
    },
    {
      "metadata": {
        "trusted": true
      },
      "cell_type": "code",
      "source": "interest_rate = 2.5\n\ndef interest(x):\n    return x * (1+interest_rate/100)\n\nprint(interest(interest(interest(100))))",
      "execution_count": 30,
      "outputs": [
        {
          "output_type": "stream",
          "text": "107.68906249999996\n",
          "name": "stdout"
        }
      ]
    },
    {
      "metadata": {},
      "cell_type": "markdown",
      "source": "## Tuples\n\nSuppose we want to return several values from our function, for example, total amount on our bank account as well as accumulated interest. However, functions are designed in such a way that they can only return a single value. Luckily, a single value in Python can consist of multiple other values. Such combinations of 2, 3 or any other number of values are called **tuples**.\n\nTuples are very useful way of storing structured values. For example, a coordinate in a 2D-space is given by two values, $x$ and $y$. So, instead of storing them in two different variables, and saying `x=0` and `y=10`, we can store them in a tuple:"
    },
    {
      "metadata": {
        "trusted": true
      },
      "cell_type": "code",
      "source": "point = (0,10)",
      "execution_count": 31,
      "outputs": []
    },
    {
      "metadata": {},
      "cell_type": "markdown",
      "source": "To access individual coordinates of a point, we can use the notation `point[0]` and `point[1]`:"
    },
    {
      "metadata": {
        "trusted": true
      },
      "cell_type": "code",
      "source": "print(\"Our coordinates are: x=\",point[0],', y=',point[1])",
      "execution_count": 32,
      "outputs": [
        {
          "output_type": "stream",
          "text": "Our coordinates are: x= 0 , y= 10\n",
          "name": "stdout"
        }
      ]
    },
    {
      "metadata": {},
      "cell_type": "markdown",
      "source": "Another way to decompose a tuple into parts is assigning it to a pair of variables. You can write:"
    },
    {
      "metadata": {
        "trusted": true
      },
      "cell_type": "code",
      "source": "x,y = point\nprint(\"Our coordinates are: x=\",x,', y=',y)",
      "execution_count": 33,
      "outputs": [
        {
          "output_type": "stream",
          "text": "Our coordinates are: x= 0 , y= 10\n",
          "name": "stdout"
        }
      ]
    },
    {
      "metadata": {},
      "cell_type": "markdown",
      "source": "By the way, using tuples you can write nice assignments for several variables at once, for example"
    },
    {
      "metadata": {
        "trusted": true
      },
      "cell_type": "code",
      "source": "x,y = 0,10\nx+y",
      "execution_count": 34,
      "outputs": [
        {
          "output_type": "execute_result",
          "execution_count": 34,
          "data": {
            "text/plain": "10"
          },
          "metadata": {}
        }
      ]
    },
    {
      "metadata": {},
      "cell_type": "markdown",
      "source": "Coming back to the interest rate example, we can return total amount and accumulated interest using a tuple:"
    },
    {
      "metadata": {
        "trusted": true
      },
      "cell_type": "code",
      "source": "def interest(x,rate):\n    acc = x*rate/100\n    return (x+acc, acc)\n\ntotal, acc = interest(100,2.5)\nprint(total,acc)",
      "execution_count": 35,
      "outputs": [
        {
          "output_type": "stream",
          "text": "102.5 2.5\n",
          "name": "stdout"
        }
      ]
    },
    {
      "metadata": {},
      "cell_type": "markdown",
      "source": "## Another Style of Drawing\n\nDrawing a house using turtle commands seems a good idea, but you can also think of this problem in a slightly different way. Suppose you have a squared paper, and you have drawn a house on this paper. In this case it would be easy for you to calculate the *coordinates* of all points, and then you would know the coordinates of start and end point of each line in the drawing. So, instead of giving turtle-style commands to move and turn, you can directly specify coordinates of lines to draw.\n\nThere are two turtle commands that can be used with coordinates:\n* turtle.line((x1,y1),(x2,y2)) --- draw a line between specified points\n* turtle.point((x,y)) -- draw a point\n\nNote how we use tuples to pass point coordinates to the function!\n\nSo, when drawing a house using coordinates, we will also define a function to drawing a square, given two opposite points:"
    },
    {
      "metadata": {
        "trusted": true
      },
      "cell_type": "code",
      "source": "def square(x1,y1,x2,y2):\n    turtle.line((x1,y1),(x1,y2))\n    turtle.line((x1,y1),(x2,y1))\n    turtle.line((x2,y2),(x1,y2))\n    turtle.line((x2,y2),(x2,y1))",
      "execution_count": 5,
      "outputs": []
    },
    {
      "metadata": {},
      "cell_type": "markdown",
      "source": "Using this function, we can draw a house:"
    },
    {
      "metadata": {
        "trusted": true
      },
      "cell_type": "code",
      "source": "square(0,0,120,120)\nsquare(40,40,80,80)\nturtle.line((0,120),(60,150))\nturtle.line((60,150),(120,120))\nturtle.done()",
      "execution_count": 7,
      "outputs": [
        {
          "output_type": "display_data",
          "data": {
            "image/png": "[encoded data removed]",
            "text/plain": "<Figure size 432x288 with 1 Axes>"
          },
          "metadata": {
            "needs_background": "light"
          }
        }
      ]
    },
    {
      "metadata": {},
      "cell_type": "markdown",
      "source": "## An Exercise\n\nAs always, we would like to ask you to do a little homework before going for the next unit. You probably know from your math classes what is a quadratic equation. It is an equation of the following form:\n$$\nax^2+bx+c=0\n$$\n\nThis equation can have two roots, which are calculated using the formula:\n$$\nx_{1,2} = \\frac{-b\\pm\\sqrt{D}}{2a}\n$$\nwhere\n$$\nD=b^2-4ac\n$$\n\nIf $D<0$, the equation has no roots. If $D=$, two roots are the same (which follows from the formula).\n\nTry to:\n* Define a function to solve quadratic equation. To calculate square root, use `math.sqrt` function, as shown below\n* Use it to solve the equation with $a=1, b=2, c=-3$. It should have two roots.\n* See what happens if you try to solve an equation which has no roots, eg. $a=1, b=2, c=3$.\n\nIf you do not know or do not remember what quadratic equations are -- do not worry and skip this exercise. Or [have a look in the wikipedia](https://en.wikipedia.org/wiki/Quadratic_equation)."
    },
    {
      "metadata": {
        "trusted": true
      },
      "cell_type": "code",
      "source": "import math\nmath.sqrt(16)",
      "execution_count": 13,
      "outputs": [
        {
          "output_type": "execute_result",
          "execution_count": 13,
          "data": {
            "text/plain": "4.0"
          },
          "metadata": {}
        }
      ]
    },
    {
      "metadata": {
        "trusted": true
      },
      "cell_type": "code",
      "source": "# Write your solution here",
      "execution_count": null,
      "outputs": []
    }
  ],
  "metadata": {
    "kernelspec": {
      "name": "python36",
      "display_name": "Python 3.6",
      "language": "python"
    },
    "language_info": {
      "mimetype": "text/x-python",
      "nbconvert_exporter": "python",
      "name": "python",
      "pygments_lexer": "ipython3",
      "version": "3.6.6",
      "file_extension": ".py",
      "codemirror_mode": {
        "version": 3,
        "name": "ipython"
      }
    }
  },
  "nbformat": 4,
  "nbformat_minor": 2
}