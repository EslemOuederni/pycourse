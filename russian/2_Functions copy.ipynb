{
  "cells": [
    {
      "metadata": {
        "collapsed": true
      },
      "cell_type": "markdown",
      "source": [
        "# Введение в программирование на Python\n",
        "\n",
        "# Блок 2: Функции\n",
        "\n",
        "Давайте начнем с выполнения упражнения предыдущего урока: рисование дома. Прежде всего, давайте импортируем модуль Turtle:"
      ]
    },
    {
      "metadata": {
        "trusted": true
      },
      "cell_type": "code",
      "source": [
        "import jturtle as turtle"
      ],
      "execution_count": 1,
      "outputs": []
    },
    {
      "metadata": {},
      "cell_type": "markdown",
      "source": [
        "Чтобы упростить написание, давайте использовать переменную `size` для фиксации размера дома. Первое, что нам нужно сделать, это нарисовать квадрат:"
      ]
    },
    {
      "metadata": {
        "trusted": true,
        "scrolled": true
      },
      "cell_type": "code",
      "source": [
        "size=120\n",
        "turtle.forward(size)\n",
        "turtle.right(90)\n",
        "turtle.forward(size)\n",
        "turtle.right(90)\n",
        "turtle.forward(size)\n",
        "turtle.right(90)\n",
        "turtle.forward(size)\n",
        "turtle.right(90)\n",
        "turtle.done()"
      ],
      "execution_count": 2,
      "outputs": [
        {
          "output_type": "display_data",
          "data": {
            "image/png": "[encoded data removed]",
            "text/plain": "<Figure size 432x288 with 1 Axes>"
          },
          "metadata": {
            "needs_background": "light"
          }
        }
      ]
    },
    {
      "metadata": {},
      "cell_type": "markdown",
      "source": [
        "Теперь, нарисовав главный квадрат, нарисуем крышу. После выполненного кода черепаха находится в нижнем левом углу квадрата, поэтому нам нужно подняться вверх, а затем нарисовать треугольник:"
      ]
    },
    {
      "metadata": {
        "trusted": true
      },
      "cell_type": "code",
      "source": [
        "turtle.forward(size)\n",
        "turtle.right(90)\n",
        "turtle.forward(size)\n",
        "turtle.right(90)\n",
        "turtle.forward(size)\n",
        "turtle.right(90)\n",
        "turtle.forward(size)\n",
        "turtle.right(90)\n",
        "\n",
        "turtle.forward(size)\n",
        "turtle.right(30)\n",
        "turtle.forward(size)\n",
        "turtle.right(120)\n",
        "turtle.forward(size)\n",
        "turtle.right(120)\n",
        "turtle.done()"
      ],
      "execution_count": 3,
      "outputs": [
        {
          "output_type": "display_data",
          "data": {
            "image/png": "[encoded data removed]",
            "text/plain": "<Figure size 432x288 with 1 Axes>"
          },
          "metadata": {
            "needs_background": "light"
          }
        }
      ]
    },
    {
      "cell_type": "code",
      "execution_count": 4,
      "metadata": {},
      "outputs": [
        {
          "output_type": "error",
          "ename": "SyntaxError",
          "evalue": "invalid syntax (<ipython-input-4-ca039800a614>, line 1)",
          "traceback": [
            "\u001b[0;36m  File \u001b[0;32m\"<ipython-input-4-ca039800a614>\"\u001b[0;36m, line \u001b[0;32m1\u001b[0m\n\u001b[0;31m    Теперь, чтобы нарисовать окно, нам нужно поднять ручку вверх (чтобы остановить рисование), переместиться на 2/3 вниз и на 1/3 влево и нарисовать меньший квадрат:\u001b[0m\n\u001b[0m                           ^\u001b[0m\n\u001b[0;31mSyntaxError\u001b[0m\u001b[0;31m:\u001b[0m invalid syntax\n"
          ]
        }
      ],
      "source": [
        "Теперь, чтобы нарисовать окно, нам нужно поднять ручку вверх (чтобы остановить рисование), переместиться на 2/3 вниз и на 1/3 влево и нарисовать меньший квадрат:"
      ]
    },
    {
      "metadata": {
        "trusted": true
      },
      "cell_type": "code",
      "source": [
        "# Draw a square\n",
        "turtle.forward(size)\n",
        "turtle.right(90)\n",
        "turtle.forward(size)\n",
        "turtle.right(90)\n",
        "turtle.forward(size)\n",
        "turtle.right(90)\n",
        "turtle.forward(size)\n",
        "turtle.right(90)\n",
        "\n",
        "# Draw the roof\n",
        "turtle.forward(size)\n",
        "turtle.right(30)\n",
        "turtle.forward(size)\n",
        "turtle.right(120)\n",
        "turtle.forward(size)\n",
        "turtle.right(30)\n",
        "\n",
        "# Position pen inside\n",
        "turtle.penup()\n",
        "turtle.forward(2*size/3)\n",
        "turtle.right(90)\n",
        "turtle.forward(size/3)\n",
        "turtle.pendown()\n",
        "\n",
        "# Draw a window\n",
        "turtle.forward(size/3)\n",
        "turtle.right(90)\n",
        "turtle.forward(size/3)\n",
        "turtle.right(90)\n",
        "turtle.forward(size/3)\n",
        "turtle.right(90)\n",
        "turtle.forward(size/3)\n",
        "turtle.right(90)\n",
        "\n",
        "turtle.done()"
      ],
      "execution_count": 4,
      "outputs": [
        {
          "output_type": "display_data",
          "data": {
            "image/png": "[encoded data removed]",
            "text/plain": "<Figure size 432x288 with 1 Axes>"
          },
          "metadata": {
            "needs_background": "light"
          }
        }
      ]
    },
    {
      "metadata": {},
      "cell_type": "markdown",
      "source": [
        "Вы можете заметить, что, поскольку программа становится довольно большой, ее становится все труднее понять. Чтобы упростить понимание программы, нужно использовать ** комментарии **. Комментарии - это фрагменты текста, которые могут быть встроены в программу и которые игнорируются при выполнении. Все, что начинается со знака `#` и до конца строки, считается комментарием и отбрасывается.\n",
        "\n",
        "Вы можете использовать комментарии, чтобы предоставить некоторое описание того, что происходит, чтобы помочь другим программистам лучше понять ваш код. Кроме того, если вы хотите по какой-то причине временно исключить фрагмент кода из вашей программы, вы можете использовать комментарии, чтобы * закомментировать его *.\n",
        "\n",
        "В приведенной выше программе мы предоставили несколько комментариев, которые помогут нам понять, что делает каждая часть программы. Кроме того, мы использовали пустые строки для создания некоторой логической группировки кода. Это также помогает понять программу. Помните, что вы можете использовать любое количество пустых строк в любом месте между строками программы.\n",
        "\n",
        "Однако только комментарии не помогут нам бороться со сложностью. Еще один чрезвычайно полезный метод называется ** функции **."
      ]
    },
    {
      "metadata": {},
      "cell_type": "markdown",
      "source": [
        "## Введение в функции\n",
        "\n",
        "В этом примере нам нужно нарисовать квадраты дважды - сначала, чтобы сделать контур дома, а затем нарисовать окно внутри. На самом деле, рисование квадрата (а также других геометрических фигур, таких как треугольники или круги) можно считать довольно распространенной задачей, из которой можно сделать более сложные рисунки. Вы можете утверждать, что было бы разумно включить `квадрат` в качестве одной из встроенных команд черепахи, но включить все невозможно... было бы более разумно разрешить создание собственных команд из более простых.\n",
        "\n",
        "В нашем случае мы можем ** создать нашу собственную команду **, чтобы нарисовать квадрат. Фактически, любой фрагмент кода Python, имеющий некоторое логическое значение, может быть сгруппирован в ** функцию **. Функции определяются с помощью специального ключевого слова `def`. Взгляните на функцию для рисования квадрата:"
      ]
    },
    {
      "metadata": {
        "trusted": true
      },
      "cell_type": "code",
      "source": [
        "def square(x):\n",
        "    turtle.forward(x)\n",
        "    turtle.right(90)\n",
        "    turtle.forward(x)\n",
        "    turtle.right(90)\n",
        "    turtle.forward(x)\n",
        "    turtle.right(90)\n",
        "    turtle.forward(x)\n",
        "    turtle.right(90)"
      ],
      "execution_count": 19,
      "outputs": []
    },
    {
      "metadata": {},
      "cell_type": "markdown",
      "source": [
        "Когда мы запускаем этот код, на экране ничего не рисуется - мы просто указываем список команд, которые составляют функцию. Однако, как только ячейка выше была выполнена, Python знакомится с новой командой `square`. Чтобы нарисовать квадрат, нам нужно ** вызвать ** эту функцию:"
      ]
    },
    {
      "metadata": {
        "trusted": true
      },
      "cell_type": "code",
      "source": [
        "square(100)\n",
        "turtle.done()"
      ],
      "execution_count": 21,
      "outputs": [
        {
          "output_type": "display_data",
          "data": {
            "image/png": "[encoded data removed]",
            "text/plain": "<Figure size 432x288 with 1 Axes>"
          },
          "metadata": {
            "needs_background": "light"
          }
        }
      ]
    },
    {
      "metadata": {},
      "cell_type": "markdown",
      "source": [
        "Поскольку нам нужно рисовать квадраты разных размеров, эта функция имеет один ** аргумент ** или ** параметр **. Он обозначается `(x)` после имени функции и фактически является разновидностью переменной, которая принимает значение, передаваемое функции во время вызова. В приведенном выше случае мы вызвали функцию `square (100)`, поэтому в теле переменной функции `x` будет равно 100. Мы можем использовать любое выражение вместо параметра, например ` square (size /) 2 + 10) ` будет вполне допустимым вызовом. Выражение `size / 2 + 10` будет вычислено, а результат связан с параметром `x`. При определении функции вы всегда используете некоторые имена вместо параметров, которые будут действовать как «заполнители» - вы не можете использовать выражения.\n",
        "\n",
        "Теперь, когда мы определили функцию `квадрат`, мы можем упростить рисование дома, вызывая функцию каждый раз, когда нам нужно нарисовать квадрат:"
      ]
    },
    {
      "metadata": {
        "trusted": true
      },
      "cell_type": "code",
      "source": [
        "square(size)\n",
        "\n",
        "turtle.forward(size)\n",
        "turtle.right(30)\n",
        "turtle.forward(size)\n",
        "turtle.right(120)\n",
        "turtle.forward(size)\n",
        "turtle.right(30)\n",
        "\n",
        "turtle.penup()\n",
        "turtle.forward(2*size/3)\n",
        "turtle.right(90)\n",
        "turtle.forward(size/3)\n",
        "turtle.pendown()\n",
        "\n",
        "square(size/3)\n",
        "\n",
        "turtle.done()"
      ],
      "execution_count": 24,
      "outputs": [
        {
          "output_type": "display_data",
          "data": {
            "image/png": "[encoded data removed]",
            "text/plain": "<Figure size 432x288 with 1 Axes>"
          },
          "metadata": {
            "needs_background": "light"
          }
        }
      ]
    },
    {
      "metadata": {},
      "cell_type": "markdown",
      "source": [
        "Внутри функций мы можем вызывать другие функции. В качестве простого упражнения, пожалуйста, возьмите код, который рисует дом выше и превратите его в функцию с одним параметром - размером дома. Поместите свой код в ячейку ниже и проверьте его:"
      ]
    },
    {
      "metadata": {
        "trusted": true
      },
      "cell_type": "code",
      "source": [],
      "execution_count": null,
      "outputs": []
    },
    {
      "metadata": {},
      "cell_type": "markdown",
      "source": []
    },
    {
      "metadata": {},
      "cell_type": "markdown",
      "source": [
        "## Блоки и отступы\n",
        "\n",
        "Возможно, вы заметили, что при определении функции `square` мы отступили все строки внутри функции на несколько пробелов, например:\n",
        "\n",
        "```python\n",
        "def square(x):\n",
        "    turtle.forward(x)\n",
        "    turtle.right(90)\n",
        "    ...\n",
        "```\n",
        "Этот отступ важен, потому что он сообщает Python, где начинается и заканчивается тело функции и где начинается следующая часть программы. Например, если мы хотим определить две функции, мы сделаем отступ кода следующим образом:\n",
        "\n",
        "```python\n",
        "def square(x):\n",
        "    turtle.forward(x)\n",
        "    turtle.right(90)\n",
        "    ...\n",
        "\n",
        "def triangle(x):\n",
        "    turtle.forward(x)\n",
        "    turtle.right(120)\n",
        "    ...\n",
        "    \n",
        "square(50)\n",
        "triangle(50)\n",
        "```\n",
        "\n",
        "Отрезанный фрагмент кода называется **блоком**, поэтому вы можете сказать, что определение функции состоит из оператора `def`, за которым следует блок кода. Мы увидим эту концепцию и позже, когда будем иметь дело с циклами и условными операторами."
      ]
    },
    {
      "metadata": {},
      "cell_type": "markdown",
      "source": [
        "## Функции, которые возвращают значение\n",
        "\n",
        "В некоторых случаях функции просто что-то делают, например, рисуют квадрат. Однако иногда нам нужны функции, которые что-то вычисляют и возвращают результат. Мы говорим, что эти функции ** возвращают ** значение.\n",
        "\n",
        "Рассмотрим первое упражнение из предыдущего урока, где вам нужно было рассчитать сумму денег на банковском депозите с учетом процентной ставки 2,5%. Мы можем написать функцию, которая подсчитает, сколько денег мы получим через год:"
      ]
    },
    {
      "metadata": {
        "trusted": true
      },
      "cell_type": "code",
      "source": [
        "def interest(amount, rate):\n",
        "    x = amount * (1+rate/100)\n",
        "    return x"
      ],
      "execution_count": 25,
      "outputs": []
    },
    {
      "metadata": {},
      "cell_type": "markdown",
      "source": [
        "В этой функции `amount` - это количество денег, которое у нас есть на данный момент, а `rate` - годовая процентная ставка в процентах. Мы вычисляем сумму через год и обозначаем ее как `x`, а затем возвращаем это значение, используя оператор` return`.\n",
        "\n",
        "Для вызова этой функции мы можем использовать следующий синтаксис:"
      ]
    },
    {
      "metadata": {
        "trusted": true
      },
      "cell_type": "code",
      "source": [
        "result = interest(100, 2.5)\n",
        "print(result)"
      ],
      "execution_count": 26,
      "outputs": [
        {
          "output_type": "stream",
          "text": "102.49999999999999\n",
          "name": "stdout"
        }
      ]
    },
    {
      "metadata": {},
      "cell_type": "markdown",
      "source": [
        "Мы также можем напрямую использовать функцию `interest` в любом выражении, например, чтобы просто напечатать сумму за один год, мы можем написать"
      ]
    },
    {
      "metadata": {
        "trusted": true
      },
      "cell_type": "code",
      "source": [
        "interest(100, 2.5)"
      ],
      "execution_count": 27,
      "outputs": [
        {
          "output_type": "execute_result",
          "execution_count": 27,
          "data": {
            "text/plain": "102.49999999999999"
          },
          "metadata": {}
        }
      ]
    },
    {
      "metadata": {},
      "cell_type": "markdown",
      "source": [
        "И рассчитать полученную сумму за два года:"
      ]
    },
    {
      "metadata": {
        "trusted": true
      },
      "cell_type": "code",
      "source": [
        "interest(interest(100, 2.5),2.5)"
      ],
      "execution_count": 28,
      "outputs": [
        {
          "output_type": "execute_result",
          "execution_count": 28,
          "data": {
            "text/plain": "105.06249999999997"
          },
          "metadata": {}
        }
      ]
    },
    {
      "metadata": {},
      "cell_type": "markdown",
      "source": [
        "## Локальные и глобальные переменные\n",
        "\n",
        "В нашей функции мы использовали переменную `x` для выполнения вычислений. Такие переменные, которые используются только внутри функций, называются** локальными переменными**, и они существуют только внутри функции. Если мы попытаемся напечатать значение `x` после вызова функции `Interest`, мы получим ошибку, что такой переменной не существует.\n",
        "\n",
        "Переменная, определенная вне функции, называется **глобальной переменной**, и все такие переменные также доступны изнутри функции. Например, если процентная ставка более или менее одинакова во всех наших расчетах, мы можем выбрать ее определение как глобальную переменную, чтобы не передавать ее каждый раз:"
      ]
    },
    {
      "metadata": {
        "trusted": true
      },
      "cell_type": "code",
      "source": [
        "interest_rate = 2.5\n",
        "\n",
        "def interest(x):\n",
        "    return x * (1+interest_rate/100)\n",
        "\n",
        "print(interest(interest(interest(100))))"
      ],
      "execution_count": 30,
      "outputs": [
        {
          "output_type": "stream",
          "text": "107.68906249999996\n",
          "name": "stdout"
        }
      ]
    },
    {
      "metadata": {},
      "cell_type": "markdown",
      "source": [
        "## Кортежи (Пары)\n",
        "\n",
        "Предположим, мы хотим вернуть несколько значений из нашей функции, например, общую сумму на нашем банковском счете, а также накопленные проценты. Однако функции разработаны таким образом, что они могут возвращать только одно значение. К счастью, одно значение в Python может состоять из нескольких других значений. Такие комбинации из 2, 3 или любого другого числа значений называются **кортежами**.\n",
        "\n",
        "Кортежи - очень полезный способ хранения структурированных значений. Например, координата в 2D-пространстве задается двумя значениями, $ x $ и $ y $. Таким образом, вместо того, чтобы хранить их в двух разных переменных и произносить `x = 0` и` y = 10`, мы можем хранить их в кортеже:"
      ]
    },
    {
      "metadata": {
        "trusted": true
      },
      "cell_type": "code",
      "source": [
        "point = (0,10)"
      ],
      "execution_count": 31,
      "outputs": []
    },
    {
      "metadata": {},
      "cell_type": "markdown",
      "source": [
        "Чтобы получить доступ к отдельным координатам точки, мы можем использовать обозначения `point [0]` и `point [1]`:"
      ]
    },
    {
      "cell_type": "code",
      "execution_count": null,
      "metadata": {},
      "outputs": [],
      "source": []
    },
    {
      "metadata": {
        "trusted": true
      },
      "cell_type": "code",
      "source": [
        "print(\"Наши координаты\",point[0],', y=',point[1])"
      ],
      "execution_count": 1,
      "outputs": [
        {
          "output_type": "error",
          "ename": "NameError",
          "evalue": "name 'point' is not defined",
          "traceback": [
            "\u001b[0;31m---------------------------------------------------------------------------\u001b[0m",
            "\u001b[0;31mNameError\u001b[0m                                 Traceback (most recent call last)",
            "\u001b[0;32m<ipython-input-1-d73237a0d325>\u001b[0m in \u001b[0;36m<module>\u001b[0;34m\u001b[0m\n\u001b[0;32m----> 1\u001b[0;31m \u001b[0mprint\u001b[0m\u001b[0;34m(\u001b[0m\u001b[0;34m\"Наши переменные: x=\"\u001b[0m\u001b[0;34m,\u001b[0m\u001b[0mpoint\u001b[0m\u001b[0;34m[\u001b[0m\u001b[0;36m0\u001b[0m\u001b[0;34m]\u001b[0m\u001b[0;34m,\u001b[0m\u001b[0;34m', y='\u001b[0m\u001b[0;34m,\u001b[0m\u001b[0mpoint\u001b[0m\u001b[0;34m[\u001b[0m\u001b[0;36m1\u001b[0m\u001b[0;34m]\u001b[0m\u001b[0;34m)\u001b[0m\u001b[0;34m\u001b[0m\u001b[0;34m\u001b[0m\u001b[0m\n\u001b[0m",
            "\u001b[0;31mNameError\u001b[0m: name 'point' is not defined"
          ]
        }
      ]
    },
    {
      "metadata": {},
      "cell_type": "markdown",
      "source": [
        "Другой способ разложить кортеж на части - присвоить его паре переменных. Можно написать:"
      ]
    },
    {
      "metadata": {
        "trusted": true
      },
      "cell_type": "code",
      "source": [
        "x,y = point\n",
        "print(\"Наши координаты: x=\",x,', y=',y)"
      ],
      "execution_count": 33,
      "outputs": [
        {
          "output_type": "stream",
          "text": "Our coordinates are: x= 0 , y= 10\n",
          "name": "stdout"
        }
      ]
    },
    {
      "metadata": {},
      "cell_type": "markdown",
      "source": [
        "Кстати, используя кортежи, вы можете писать назначения для нескольких переменных одновременно, напримерпример"
      ]
    },
    {
      "metadata": {
        "trusted": true
      },
      "cell_type": "code",
      "source": [
        "x,y = 0,10\n",
        "x+y"
      ],
      "execution_count": 34,
      "outputs": [
        {
          "output_type": "execute_result",
          "execution_count": 34,
          "data": {
            "text/plain": "10"
          },
          "metadata": {}
        }
      ]
    },
    {
      "metadata": {},
      "cell_type": "markdown",
      "source": [
        "Возвращаясь к примеру с процентной ставкой, мы можем вернуть общую сумму и накопленные проценты, используя кортеж:ортеж:"
      ]
    },
    {
      "metadata": {
        "trusted": true
      },
      "cell_type": "code",
      "source": [
        "def interest(x,rate):\n",
        "    acc = x*rate/100\n",
        "    return (x+acc, acc)\n",
        "\n",
        "total, acc = interest(100,2.5)\n",
        "print(total,acc)"
      ],
      "execution_count": 35,
      "outputs": [
        {
          "output_type": "stream",
          "text": "102.5 2.5\n",
          "name": "stdout"
        }
      ]
    },
    {
      "metadata": {},
      "cell_type": "markdown",
      "source": [
        "## Другой стиль рисования\n",
        "\n",
        "Рисовать дом с помощью команд черепахи - хорошая идея, но можно подумать об этой проблеме немного по-другому. Предположим, у вас есть квадратная бумага, и вы нарисовали дом на этой бумаге. В этом случае вам будет легко рассчитать * координаты * всех точек, и тогда вы будете знать координаты начальной и конечной точек каждой линии на чертеже. Таким образом, вместо того, чтобы давать команды в стиле черепахи для перемещения и поворота, вы можете напрямую указать координаты линий для рисования.\n",
        "\n",
        "Есть две команды turtle, которые можно использовать с координатами:\n",
        "* turtle.line ((x1, y1), (x2, y2)) --- рисует линию между указанными точками\n",
        "* turtle.point ((x, y)) - рисует точку\n",
        "\n",
        "Обратите внимание, как мы используем кортежи для передачи координат точки в функцию!\n",
        "\n",
        "Итак, при рисовании дома с использованием координат мы также определим функцию для рисования квадрата с учетом двух противоположных точек:исования квадрата с учетом двух противоположных точек:"
      ]
    },
    {
      "metadata": {
        "trusted": true
      },
      "cell_type": "code",
      "source": [
        "def square(x1,y1,x2,y2):\n",
        "    turtle.line((x1,y1),(x1,y2))\n",
        "    turtle.line((x1,y1),(x2,y1))\n",
        "    turtle.line((x2,y2),(x1,y2))\n",
        "    turtle.line((x2,y2),(x2,y1))"
      ],
      "execution_count": 5,
      "outputs": []
    },
    {
      "metadata": {},
      "cell_type": "markdown",
      "source": [
        "Мы можем нарисовать дом, используя эту функциюнкции"
      ]
    },
    {
      "metadata": {
        "trusted": true
      },
      "cell_type": "code",
      "source": [
        "square(0,0,120,120)\n",
        "square(40,40,80,80)\n",
        "turtle.line((0,120),(60,150))\n",
        "turtle.line((60,150),(120,120))\n",
        "turtle.done()"
      ],
      "execution_count": 7,
      "outputs": [
        {
          "output_type": "display_data",
          "data": {
            "image/png": "[encoded data removed]",
            "text/plain": "<Figure size 432x288 with 1 Axes>"
          },
          "metadata": {
            "needs_background": "light"
          }
        }
      ]
    },
    {
      "metadata": {},
      "cell_type": "markdown",
      "source": [
        "## Упражнение\n",
        "\n",
        "Как всегда, мы хотели бы попросить вас сделать небольшую домашнюю работу, прежде чем перейти к следующему блоку. Вы, вероятно, знаете из уроков математики, что такое квадратное уравнение. Это уравнение следующего вида:едующего вида:\n",
        "$$\n",
        "\n",
        "aЭто уравнение может иметь два корня, которые рассчитываются по формуле: по формуле:\n",
        "$$\n",
        "x_{1,2} = \\frac{-b\\pm\\sqrtгде2a}\n",
        "$$\n",
        "где\n",
        "$$\n",
        "D=b^Если4ac\n",
        "$$\n",
        "\n",
        "у уравнения нет корнейikЕслиedia0.orдва корня одинаковы (что следует из формулы)Пробовать:\n",
        "* Определить функцию для решения квадратного уравнения. Чтобы вычислить квадратный корень, используйте функцию `math.sqrt`, как показано ниже\n",
        "* Используйте его, чтобы решить уравнение с $ a = 1, b = 2, c = -3 $. У него должно быть два корня.\n",
        "* Посмотрите, что произойдет, если вы попытаетесь решить уравнение, которое не имеет корней, например. $ a = 1, b = 2, c = 3 $.\n",
        "\n",
        "Если вы не знаете или не помните, что такое квадратные уравнения - не беспокойтесь и пропустите это упражнение. Или [загляните в википедию]"
      ]
    },
    {
      "metadata": {
        "trusted": true
      },
      "cell_type": "code",
      "source": [
        "import math\n",
        "math.sqrt(16)"
      ],
      "execution_count": 13,
      "outputs": [
        {
          "output_type": "execute_result",
          "execution_count": 13,
          "data": {
            "text/plain": "4.0"
          },
          "metadata": {}
        }
      ]
    },
    {
      "metadata": {
        "trusted": true
      },
      "cell_type": "code",
      "source": [
        "# Write your solution here"
      ],
      "execution_count": null,
      "outputs": []
    }
  ],
  "metadata": {
    "kernelspec": {
      "name": "python37364bit6a29fc4a18164452b4e57b09a0c467e1",
      "display_name": "Python 3.7.3 64-bit",
      "language": "python"
    },
    "language_info": {
      "mimetype": "text/x-python",
      "nbconvert_exporter": "python",
      "name": "python",
      "pygments_lexer": "ipython3",
      "version": "3.7.3-final",
      "file_extension": ".py",
      "codemirror_mode": {
        "version": 3,
        "name": "ipython"
      }
    }
  },
  "nbformat": 4,
  "nbformat_minor": 2
}