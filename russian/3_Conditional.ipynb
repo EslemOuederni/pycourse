{
  "cells": [
    {
      "metadata": {
        "collapsed": true
      },
      "cell_type": "markdown",
      "source": [
        "# Введение в программирование на Python\n",
        "\n",
        "# Блок 3: Условный оператор\n",
        "\n",
        "В последнем блоке вас попросили решить квадратное уравнение вида\n",
        "$$ах^2+Ьх+с=0$$.\n",
        "\n",
        "Чтобы решить это уравнение, мы можем написать следующую функцию (на основе хорошо известного [квадратного уравнения] (https://en.wikipedia.org/wiki/Quadratic_formula)):"
      ]
    },
    {
      "metadata": {
        "trusted": true
      },
      "cell_type": "code",
      "source": [
        "import math\n",
        "\n",
        "def solve(a,b,c):\n",
        "    d = b*b-4*a*c\n",
        "    x1 = (-b+math.sqrt(d))/(2*a)\n",
        "    x2 = (-b-math.sqrt(d))/(2*a)\n",
        "    return (x1,x2)\n",
        "\n",
        "solve (1,2,-3)"
      ],
      "execution_count": 1,
      "outputs": [
        {
          "output_type": "execute_result",
          "execution_count": 1,
          "data": {
            "text/plain": "(1.0, -3.0)"
          },
          "metadata": {}
        }
      ]
    },
    {
      "metadata": {},
      "cell_type": "markdown",
      "source": [
        "Однако некоторые из квадратичных уравнений не имеют решений, например, $x^2+2x+3=0$. Посмотрим, что произойдет, если мы попытаемся решить такое уравнение:"
      ]
    },
    {
      "metadata": {
        "trusted": true
      },
      "cell_type": "code",
      "source": [
        "solve(1,2,3)"
      ],
      "execution_count": 2,
      "outputs": [
        {
          "output_type": "error",
          "ename": "ValueError",
          "evalue": "math domain error",
          "traceback": [
            "\u001b[0;31m---------------------------------------------------------------------------\u001b[0m",
            "\u001b[0;31mValueError\u001b[0m                                Traceback (most recent call last)",
            "\u001b[0;32m<ipython-input-2-ab39b5a14b05>\u001b[0m in \u001b[0;36m<module>\u001b[0;34m\u001b[0m\n\u001b[0;32m----> 1\u001b[0;31m \u001b[0msolve\u001b[0m\u001b[0;34m(\u001b[0m\u001b[0;36m1\u001b[0m\u001b[0;34m,\u001b[0m\u001b[0;36m2\u001b[0m\u001b[0;34m,\u001b[0m\u001b[0;36m3\u001b[0m\u001b[0;34m)\u001b[0m\u001b[0;34m\u001b[0m\u001b[0m\n\u001b[0m",
            "\u001b[0;32m<ipython-input-1-e88b999578f9>\u001b[0m in \u001b[0;36msolve\u001b[0;34m(a, b, c)\u001b[0m\n\u001b[1;32m      3\u001b[0m \u001b[0;32mdef\u001b[0m \u001b[0msolve\u001b[0m\u001b[0;34m(\u001b[0m\u001b[0ma\u001b[0m\u001b[0;34m,\u001b[0m\u001b[0mb\u001b[0m\u001b[0;34m,\u001b[0m\u001b[0mc\u001b[0m\u001b[0;34m)\u001b[0m\u001b[0;34m:\u001b[0m\u001b[0;34m\u001b[0m\u001b[0m\n\u001b[1;32m      4\u001b[0m     \u001b[0md\u001b[0m \u001b[0;34m=\u001b[0m \u001b[0mb\u001b[0m\u001b[0;34m*\u001b[0m\u001b[0mb\u001b[0m\u001b[0;34m-\u001b[0m\u001b[0;36m4\u001b[0m\u001b[0;34m*\u001b[0m\u001b[0ma\u001b[0m\u001b[0;34m*\u001b[0m\u001b[0mc\u001b[0m\u001b[0;34m\u001b[0m\u001b[0m\n\u001b[0;32m----> 5\u001b[0;31m     \u001b[0mx1\u001b[0m \u001b[0;34m=\u001b[0m \u001b[0;34m(\u001b[0m\u001b[0;34m-\u001b[0m\u001b[0mb\u001b[0m\u001b[0;34m+\u001b[0m\u001b[0mmath\u001b[0m\u001b[0;34m.\u001b[0m\u001b[0msqrt\u001b[0m\u001b[0;34m(\u001b[0m\u001b[0md\u001b[0m\u001b[0;34m)\u001b[0m\u001b[0;34m)\u001b[0m\u001b[0;34m/\u001b[0m\u001b[0;34m(\u001b[0m\u001b[0;36m2\u001b[0m\u001b[0;34m*\u001b[0m\u001b[0ma\u001b[0m\u001b[0;34m)\u001b[0m\u001b[0;34m\u001b[0m\u001b[0m\n\u001b[0m\u001b[1;32m      6\u001b[0m     \u001b[0mx2\u001b[0m \u001b[0;34m=\u001b[0m \u001b[0;34m(\u001b[0m\u001b[0;34m-\u001b[0m\u001b[0mb\u001b[0m\u001b[0;34m-\u001b[0m\u001b[0mmath\u001b[0m\u001b[0;34m.\u001b[0m\u001b[0msqrt\u001b[0m\u001b[0;34m(\u001b[0m\u001b[0md\u001b[0m\u001b[0;34m)\u001b[0m\u001b[0;34m)\u001b[0m\u001b[0;34m/\u001b[0m\u001b[0;34m(\u001b[0m\u001b[0;36m2\u001b[0m\u001b[0;34m*\u001b[0m\u001b[0ma\u001b[0m\u001b[0;34m)\u001b[0m\u001b[0;34m\u001b[0m\u001b[0m\n\u001b[1;32m      7\u001b[0m     \u001b[0;32mreturn\u001b[0m \u001b[0;34m(\u001b[0m\u001b[0mx1\u001b[0m\u001b[0;34m,\u001b[0m\u001b[0mx2\u001b[0m\u001b[0;34m)\u001b[0m\u001b[0;34m\u001b[0m\u001b[0m\n",
            "\u001b[0;31mValueError\u001b[0m: math domain error"
          ]
        }
      ]
    },
    {
      "metadata": {},
      "cell_type": "markdown",
      "source": [
        "Это дает нам * ошибку математического доминирования *, потому что наша программа пытается получить квадратный корень из отрицательного числа! Чтобы избавиться от этой ошибки, нам нужно проверить, не является ли значение `d` неотрицательным, прежде чем вычислять` x1` и `x2`. Это можно сделать с помощью ** условного оператора **"
      ]
    },
    {
      "metadata": {},
      "cell_type": "markdown",
      "source": [
        "## Условный оператор\n",
        "\n",
        "Иногда нам нужно выполнить какую-то часть программы только тогда, когда возникает какое-то условие. Для этого мы используем ** условный оператор **, также называемый ** оператор if-then-else **. В нашем случае мы можем улучшить нашу функцию следующим образом:"
      ]
    },
    {
      "metadata": {
        "trusted": true
      },
      "cell_type": "code",
      "source": [
        "def solve(a,b,c):\n",
        "    d = b*b-4*a*c\n",
        "    if d>=0:\n",
        "        x1 = (-b+math.sqrt(d))/(2*a)\n",
        "        x2 = (-b-math.sqrt(d))/(2*a)\n",
        "        return (x1,x2)\n",
        "    else:\n",
        "        print(\"Нет решений\")\n",
        "\n",
        "solve (1,2,3)"
      ],
      "execution_count": 3,
      "outputs": [
        {
          "output_type": "stream",
          "text": "No solution\n",
          "name": "stdout"
        }
      ]
    },
    {
      "metadata": {},
      "cell_type": "markdown",
      "source": [
        "Условный оператор имеет следующую форму:\n",
        "\n",
        "```\n",
        "if условие:\n",
        "   блок кода, который выполняется при выполнении условия\n",
        "else:\n",
        "   блок кода, который выполняется, если условие не выполняется\n",
        "```\n",
        "\n",
        "\n",
        "Условный оператор имеет следующую форму:\n",
        "\n",
        "`` `\n",
        "если условие:\n",
        "   блок кода, который выполняется при выполнении условия\n",
        "еще:\n",
        "   блок кода, который выполняется, если условие не выполняется\n",
        "`` `\n",
        "\n",
        "Обратите внимание, как все блоки кода выровнены вместе, так же, как тела функций были выровнены ранее, чтобы указать, где код функции начинается и заканчивается.\n",
        "\n",
        "Условия включают в себя следующие операторы сравнения:\n",
        "\n",
        "| Operator | Meaning |\n",
        "| ------- | ----- |\n",
        "| == | равно |\n",
        "| != | не равно |\n",
        "| < | меньше |\n",
        "| <= | меньше или равно |\n",
        "| > | больше |\n",
        "| >= | больше или равно |"
      ]
    },
    {
      "metadata": {},
      "cell_type": "markdown",
      "source": [
        "В нашем примере функция возвращает результат, если уравнение может быть решено, и печатает ошибку, если не может. Тем не менее, это не считается хорошим дизайном функции, потому что она ведет себя по-разному в зависимости от обстоятельств. Было бы намного лучше, если бы функция всегда возвращала значение, решение, или какое-либо указание на то, что решение не существует.\n",
        "\n",
        "На самом деле, существует специальное значение, называемое `None`, которое часто используется в таких случаях для указания отсутствующего или несуществующего значения. Итак, наша функция может быть улучшена следующим образом:"
      ]
    },
    {
      "metadata": {
        "trusted": true
      },
      "cell_type": "code",
      "source": [
        "def solve(a,b,c):\n",
        "    d = b*b-4*a*c\n",
        "    if d>=0:\n",
        "        x1 = (-b+math.sqrt(d))/(2*a)\n",
        "        x2 = (-b-math.sqrt(d))/(2*a)\n",
        "        return (x1,x2)\n",
        "    else:\n",
        "        return None\n",
        "\n",
        "print('Equation with no solution: ',solve(1,2,3))\n",
        "print('Equation with two roots: ',solve(1,2,-3))"
      ],
      "execution_count": 5,
      "outputs": [
        {
          "output_type": "stream",
          "text": "Equation with no solution:  None\nEquation with two roots:  (1.0, -3.0)\n",
          "name": "stdout"
        }
      ]
    },
    {
      "metadata": {},
      "cell_type": "markdown",
      "source": [
        "In fact, the value `None` is quite special, because if you do not specify a `return` operator in the function - it is considered to return `None`. So, in our case, we can simplify the function and omit the part of `if` operator:"
      ]
    },
    {
      "metadata": {
        "trusted": true
      },
      "cell_type": "code",
      "source": [
        "def solve(a,b,c):\n",
        "    d = b*b-4*a*c\n",
        "    if d>=0:\n",
        "        x1 = (-b+math.sqrt(d))/(2*a)\n",
        "        x2 = (-b-math.sqrt(d))/(2*a)\n",
        "        return (x1,x2)\n",
        "\n",
        "print('Уравнение без решений: ',solve(1,2,3))\n",
        "print('Уравнение с двумя корнями: ',solve(1,2,-3))"
      ],
      "execution_count": 6,
      "outputs": [
        {
          "output_type": "stream",
          "text": "Equation with no solution:  None\nEquation with two roots:  (1.0, -3.0)\n",
          "name": "stdout"
        }
      ]
    },
    {
      "metadata": {},
      "cell_type": "markdown",
      "source": [
        "Здесь код, который вычисляет и возвращает значения $x_1$ и $x_2$ выполняется только при $d\\ge0$. Если это не так, ничего не выполняется, и, таким образом, функция возвращает `None`. "
      ]
    },
    {
      "metadata": {},
      "cell_type": "markdown",
      "source": [
        "## Добавление случайности\n",
        "\n",
        "Во всех случаях, которые мы видели выше, программа принимает некоторые входные значения, затем выполняет серию шагов и выдает результат. Он зависит от входных данных, но каждый раз вычисляется точно так же, в зависимости от программы.\n",
        "\n",
        "Однако иногда мы хотим добавить некоторую случайность в поведение программы. Например, предположим, что мы хотим создать программу, которая сгенерирует книгу задач для решения квадратных уравнений. Такая книга должна содержать ряд примеров уравнений вместе с их решениями.\n",
        "\n",
        "Чтобы создать такую ​​книгу, нам нужно будет случайным образом выбрать коэффициенты для уравнений. Было бы хорошо иметь какой-нибудь способ генерировать ** случайные числа **.\n",
        "\n",
        "Это можно сделать с помощью функций из модуля random:"
      ]
    },
    {
      "metadata": {
        "trusted": true
      },
      "cell_type": "code",
      "source": [
        "import random\n",
        "\n",
        "print('Рандомное число от 0 до 1: ', random.random())\n",
        "print('Рандомное число (integer) от 0 до 10: ',random.randint(1,10))\n",
        "print('Рандомное число от 1 до 3: ',random.choice([\"Один\",\"Два\",\"Три\"]))"
      ],
      "execution_count": 10,
      "outputs": [
        {
          "output_type": "stream",
          "text": "Random number from 0 to 1:  0.41953723929971876\nRandom integer from 0 to 10:  5\nRandom number from 1 to 3:  Three\n",
          "name": "stdout"
        }
      ]
    },
    {
      "metadata": {},
      "cell_type": "markdown",
      "source": [
        "Попробуйте запустить ячейку выше несколько раз, и посмотрите, как значения меняются при каждом выполнении кода.\n",
        "\n",
        "На самом деле, эти числа не являются чисто случайными, их называют ** псевдослучайными **. Это означает, что они генерируются последовательно с использованием некоторого алгоритма из первого числа, называемого ** seed **, таким образом, что они напоминают случайные числа.\n",
        "\n",
        "Давайте определим функцию, которая генерирует случайное уравнение:"
      ]
    },
    {
      "metadata": {
        "trusted": true
      },
      "cell_type": "code",
      "source": [
        "def random_equation():\n",
        "    a = random.randint(1,5)*random.choice([-1,1])\n",
        "    b = random.randint(-10,10)\n",
        "    c = random.randint(-20,20)\n",
        "    print(a,'x^2+',b,'x+',c)\n",
        "    \n",
        "random_equation()"
      ],
      "execution_count": 18,
      "outputs": [
        {
          "output_type": "stream",
          "text": "-5 x^2+ 5 x+ -1\n",
          "name": "stdout"
        }
      ]
    },
    {
      "metadata": {},
      "cell_type": "markdown",
      "source": [
        "Если вы запустите эту ячейку несколько раз, вы увидите, что хотя сгенерированные числа хороши, окончательное уравнение выглядит не очень хорошо из-за '+ -'. Иногда, когда $ a = -1 $, вы получите такие вещи, как `-1 x ^ 2` ... Так что было бы хорошо позаботиться об этом!\n",
        "\n",
        "Для этого мы можем определить функцию, которая будет выводить коэффициент перед `x` умным способом:\n",
        "* если коэффициент отрицательный (скажем, $ -5 $), он выведет `-5`\n",
        "* если коэффициент положительный, он напечатает `+ 5`\n",
        "* если коэффициент равен 0, он ничего не печатает\n",
        "* если коэффициент равен 1 (или -1), он пропускает `1`\n",
        "\n",
        "Чтобы обработать случай, когда коэффициент равен 0, мы также передадим переменную (`x`,` x ^ 2` или пустую строку) для печати."
      ]
    },
    {
      "metadata": {
        "trusted": true
      },
      "cell_type": "code",
      "source": [
        "def coef(a,x):\n",
        "    if a==0:\n",
        "        return \"\"\n",
        "    elif a==1:\n",
        "        return \"+\"+x\n",
        "    elif a==-1:\n",
        "        return \"-\"+x\n",
        "    elif a<0:\n",
        "        return \"-\"+str(-a)+x\n",
        "    else:\n",
        "        return \"+\"+str(a)+x\n",
        "    \n",
        "def equation(a,b,c):\n",
        "    return coef(a,\"x^2\")+coef(b,\"x\")+coef(c,\"\")\n",
        "\n",
        "print(equation(1,-2,3))\n",
        "print(equation(-1,-2,-3))"
      ],
      "execution_count": 19,
      "outputs": [
        {
          "output_type": "stream",
          "text": "+x^2-2x+3\n-x^2-2x-3\n",
          "name": "stdout"
        }
      ]
    },
    {
      "metadata": {},
      "cell_type": "markdown",
      "source": [
        "В этом примере мы видим две новые концепции:\n",
        "\n",
        "* Оператор `elif` может быть использован, когда у нас есть условный оператор с несколькими условиями. If проверяет условия в указанном порядке, и при выполнении одного из условий выполняется соответствующий кодовый блок. Вы можете иметь много `elif`-ов.\n",
        "* Функция `str` используется для преобразования целого числа в строку. Мы не можем напрямую добавить число в строку, например. выражение `\"5\"+1` приведет к ошибке. Нам нужно в явной форме указать, хотим ли мы добавить их как строки (`\"5\"+str(1)`) или как числа (`int (\"5\")+1`)\n",
        "\n",
        "## Преобразование типов\n",
        "\n",
        "Функция `coef` выше преобразует коэффициент в его **строковое представление**, с учётом знака. Важно понимать различие между переменной, имеющей **целое значение** (типа `int), и **строковой переменной** (`str`). Точнее, переменная может быть одной и той же, но принимаемые ей значения могут быть разных типов: строки, целые числа, вещественные числа, логические значения и т.д. \n",
        "\n",
        "Например, рассмотрим такой код:\n",
        "```python\n",
        "i = 13\n",
        "s = \"13\"\n",
        "```\n",
        "Здесь переменная `i` содержит целое число, с которым мы можем выполнять различные арифметические операции. `print(i+i)`, например, напечатает нам результат сложения - 13. Переменная `s` содержит строку, поэтому выражение `s+s` вернёт значение `1313`, поскольку операция `+` для строк выполняет *конкатенацию*, т.е. склеивание строк вместе. Для приведения одних типов к другим мы можем использовать имена типов (например, `str` или `int`) как функции, например:"
      ]
    },
    {
      "cell_type": "code",
      "execution_count": 1,
      "metadata": {},
      "outputs": [
        {
          "output_type": "stream",
          "name": "stdout",
          "text": [
            "26\n",
            "1313\n",
            "26\n",
            "1313\n"
          ]
        }
      ],
      "source": [
        "i = 13\n",
        "s = \"13\"\n",
        "print(i+i)\n",
        "print(s+s)\n",
        "print(int(s)+int(s))\n",
        "print(str(i)+s)"
      ]
    },
    {
      "metadata": {},
      "cell_type": "markdown",
      "source": [
        "## Срезы строк \n",
        "\n",
        "Теперь, чтобы сделать функцию печати уравнения абсолютно совершенной, нам нужно избавиться от «+», если первый коэффициент положительный. Мы сделаем это, проверив первый элемент строки. Если первый элемент равен `+`, мы вернем все, кроме первого элемента.\n",
        "\n",
        "Доступ к различным частям строки называется ** нарезкой **. Если мы хотим выбрать все символы с позиции $ a $ до позиции $b-1$ в строке $s$, мы напишем `s[a:b]`. Например:"
      ]
    },
    {
      "metadata": {
        "trusted": true
      },
      "cell_type": "code",
      "source": [
        "s=\"Всем привет, ребята!\"\n",
        "s[7:9]"
      ],
      "execution_count": 21,
      "outputs": [
        {
          "output_type": "execute_result",
          "execution_count": 21,
          "data": {
            "text/plain": "'my'"
          },
          "metadata": {}
        }
      ]
    },
    {
      "metadata": {},
      "cell_type": "markdown",
      "source": [
        "Если нам нужны все символы до конца строки, можно не писать второе число:"
      ]
    },
    {
      "metadata": {
        "trusted": true
      },
      "cell_type": "code",
      "source": [
        "s[10:]"
      ],
      "execution_count": 23,
      "outputs": [
        {
          "output_type": "execute_result",
          "execution_count": 23,
          "data": {
            "text/plain": "'friends!'"
          },
          "metadata": {}
        }
      ]
    },
    {
      "metadata": {},
      "cell_type": "markdown",
      "source": [
        "Если мы хотим начать считать элементы с конца списка, а не с начала, мы можем использовать отрицательную индексацию:"
      ]
    },
    {
      "metadata": {
        "trusted": true
      },
      "cell_type": "code",
      "source": [
        "s[10:-1]"
      ],
      "execution_count": 24,
      "outputs": [
        {
          "output_type": "execute_result",
          "execution_count": 24,
          "data": {
            "text/plain": "'friends'"
          },
          "metadata": {}
        }
      ]
    },
    {
      "metadata": {},
      "cell_type": "markdown",
      "source": [
        "Наконец, чтобы получить один элемент, мы можем просто написать один индекс:"
      ]
    },
    {
      "metadata": {
        "trusted": true
      },
      "cell_type": "code",
      "source": [
        "s[0]"
      ],
      "execution_count": 25,
      "outputs": [
        {
          "output_type": "execute_result",
          "execution_count": 25,
          "data": {
            "text/plain": "'H'"
          },
          "metadata": {}
        }
      ]
    },
    {
      "metadata": {},
      "cell_type": "markdown",
      "source": [
        "Учитывая все это, можно улучшить нашу функцию следующим образом:"
      ]
    },
    {
      "metadata": {
        "trusted": true
      },
      "cell_type": "code",
      "source": [
        "def equation(a,b,c):\n",
        "    s = coef(a,\"x^2\")+coef(b,\"x\")+coef(c,\"\")\n",
        "    if s[0] == \"+\":\n",
        "        return s[1:]\n",
        "    else:\n",
        "        return s\n",
        "    \n",
        "print(equation(1,-2,3))\n",
        "print(equation(-1,-2,-3))"
      ],
      "execution_count": 26,
      "outputs": [
        {
          "output_type": "stream",
          "text": "x^2-2x+3\n-x^2-2x-3\n",
          "name": "stdout"
        }
      ]
    },
    {
      "metadata": {},
      "cell_type": "markdown",
      "source": [
        "## Собираем все вместе\n",
        "\n",
        "Наконец, чтобы сгенерировать и вывести случайное уравнение, мы изменим функцию `random_equation`, чтобы она возвращала строку:"
      ]
    },
    {
      "metadata": {
        "trusted": true
      },
      "cell_type": "code",
      "source": [
        "def random_equation():\n",
        "    a = random.randint(1,5)*random.choice([-1,1])\n",
        "    b = random.randint(-10,10)\n",
        "    c = random.randint(-20,20)\n",
        "    return equation(a,b,c)\n",
        "\n",
        "random_equation()"
      ],
      "execution_count": 27,
      "outputs": [
        {
          "output_type": "execute_result",
          "execution_count": 27,
          "data": {
            "text/plain": "'4x^2-7x-5'"
          },
          "metadata": {}
        }
      ]
    },
    {
      "metadata": {},
      "cell_type": "markdown",
      "source": [
        "\n",
        "Вы, наверное, заметили, что Azure Notebooks поддерживают формулы набора текста приятным \"математическим\" способом. Это делается с использованием так называемой нотации $\\TeX$, и фактически уравнение, которое мы распечатали, очень похоже на нее. Все, что нам нужно сделать, это использовать какую-то особую магию, чтобы распечатать ее как формулу. Вам не нужно это понимать, просто наслаждайтесь результатом:"
      ]
    },
    {
      "metadata": {
        "trusted": true
      },
      "cell_type": "code",
      "source": [
        "from IPython.display import display, Math\n",
        "display(Math(random_equation()))"
      ],
      "execution_count": 28,
      "outputs": [
        {
          "output_type": "display_data",
          "data": {
            "text/latex": "$\\displaystyle -x^2+9x+10$",
            "text/plain": "<IPython.core.display.Math object>"
          },
          "metadata": {}
        }
      ]
    },
    {
      "metadata": {},
      "cell_type": "markdown",
      "source": [
        "## Упражнение\n",
        "\n",
        "В следующем разделе мы продолжим наше упражнение по созданию учебника квадратичных уравнений. Давайте пойдем еще дальше и добавим решение уравнения. Итак, вывод вашей программы должен выглядеть так:\n",
        "\n",
        "$x^2+2x-3$ ($x_1=1, x_2=-3$)\n",
        "\n",
        "или\n",
        "\n",
        "$x^2+2x+3$ (no solutions)"
      ]
    },
    {
      "metadata": {
        "trusted": true
      },
      "cell_type": "code",
      "source": [],
      "execution_count": null,
      "outputs": []
    }
  ],
  "metadata": {
    "kernelspec": {
      "name": "python374jvsc74a57bd0c77bccf6af5544921fca6eddbefe5e7c44ddf71c61b63c74bd828ca1d0e389a0",
      "display_name": "Python 3.7.4 64-bit ('base': conda)"
    },
    "language_info": {
      "mimetype": "text/x-python",
      "nbconvert_exporter": "python",
      "name": "python",
      "pygments_lexer": "ipython3",
      "version": "3.7.4",
      "file_extension": ".py",
      "codemirror_mode": {
        "version": 3,
        "name": "ipython"
      }
    }
  },
  "nbformat": 4,
  "nbformat_minor": 2
}