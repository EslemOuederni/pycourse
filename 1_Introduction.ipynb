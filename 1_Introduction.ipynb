{
  "cells": [
    {
      "metadata": {
        "collapsed": true
      },
      "cell_type": "markdown",
      "source": "# Introduction to Programming with Python\n\n# Unit 1: Introduction\n\nHello, and welcome to *Introduction to Programming with Python* course! \n\nIn this course, you will learn the basics of computer programming using one of the most popular and powerful languages --- [Python](https://www.python.org/). We will try to make this experience enjoyable, learning how to create some nice visual drawings and some computer-generated art. Despite the fact that in this course we will be solving relatively simple problems, Python as a language is very powerful, and can be used in may areas, from Data Scince and AI to developing web sites.\n\nThe document you are reading now is called a **Notebook** (more precisely, *Jupyter Notebook*). It contains **cells**, some of them are **text cells** (they are also called **Markdown** in the drop-down box at the top, because they can contain some formatting in so-called Markdown format), and some are **executable code**. To execute the code, select a cell and click **RUN** button in the top toolbox, or press **Shift-Enter**. \n\nTry executing next cell, which contains the code to compute how many hours are there in a year:"
    },
    {
      "metadata": {
        "trusted": true
      },
      "cell_type": "code",
      "source": "365*24",
      "execution_count": 1,
      "outputs": [
        {
          "output_type": "execute_result",
          "execution_count": 1,
          "data": {
            "text/plain": "8760"
          },
          "metadata": {}
        }
      ]
    },
    {
      "metadata": {},
      "cell_type": "markdown",
      "source": "Once you execute the code, you can see the result immediately following the cell. Sometimes, you also see the result from the previous execution, because those results are stored together with the document. The order in which you execute cells is important, because if you compute some result in one cell -- it can later on be used in another cells. Most of the notebooks are written in such a way that you should be able to execute all cells in order from top to bottom without any problems.\n\nYou can insert new cells using **+** button at the top, and you should be able to edit this document at any time. **If you are not able to edit the document** -- it means you are looking at the original collection of notebooks and not at your own copy, and you should **CLONE** the collection to get your own editable copy.\n\nAs a first excercise, please write the code in the empty cell below to compute the number of minutes in a year. Once you are done - press **RUN** or **Shift-Enter** to execute your code and see the result:"
    },
    {
      "metadata": {
        "trusted": true
      },
      "cell_type": "code",
      "source": "",
      "execution_count": null,
      "outputs": []
    },
    {
      "metadata": {},
      "cell_type": "markdown",
      "source": "### Simplest Program\n\nAs you can see, the simplest Python code is just an arithmetic expression, which is computed and printed on the screen. In general case, **a program is a series of some commands** called **operators**. For example, one of the operators is called `print`, and it can be used to print something. When you learn programming, usually you start with writing a program that prints *Hello, world!* message, so this program in Python looks like this:"
    },
    {
      "metadata": {
        "trusted": true
      },
      "cell_type": "code",
      "source": "print(\"Hello, world!\")",
      "execution_count": 2,
      "outputs": [
        {
          "output_type": "stream",
          "text": "Hello, world!\n",
          "name": "stdout"
        }
      ]
    },
    {
      "metadata": {},
      "cell_type": "markdown",
      "source": "In our case, it is not really a program, but a part of a notebook. However, you can write a separate Python program by putting the text into a text file with `.py` extension. For example, if you create a file called `hello.py`, containing the line above with the `print` command, you can then run the program using the following command and see the message on the screen:\n```sh\npython hello.py\n```\n\n<img src=\"images/pythonhelloconsole.gif\"/>\n\nFor this command to work, you need to have Python installed on your computer, and you need to be able to use *command-line interface*, which is kind of complicated. So do not worry about that for now --- just keep in mind that Python is not a toy language in which you can only program small *cells*, but rather a full-scale programming language in which you can write almost anything. And many applications, including web sites, or games, would be written in a slightly different way using some sort of *development environment*, and not a notebook. However, the Python language itself is  always the same, and that is exactly what we will be learning."
    },
    {
      "metadata": {},
      "cell_type": "markdown",
      "source": "### Variables\n\nLike in mathematics, you can use *names* to associate them with some data. For example, you can define `seconds_in_a_day` to be equal to number of seconds in one day, and then you can use this value in your calculations:"
    },
    {
      "metadata": {
        "trusted": true
      },
      "cell_type": "code",
      "source": "seconds_in_a_day = 24*60*60\nprint('Seconds in one year: ',seconds_in_a_day*365)\nprint('One million seconds in years:',1000000/seconds_in_a_day)",
      "execution_count": null,
      "outputs": []
    },
    {
      "metadata": {},
      "cell_type": "markdown",
      "source": "Those named values are called **variables**, and you can think that a variable is a kind of bucket that can store **values** of different kinds (called **types**). Most used types are:\n * Integer values (1,2,13,...)\n * Real (or floating point) values: 3.1415, 0.5\n * Strings: \"hello\"\n \nFor example, we can use a variable to store our name, and extend the *hello-world* example:"
    },
    {
      "metadata": {
        "trusted": true
      },
      "cell_type": "code",
      "source": "name = \"Peter\"\nprint(\"Hello, \"+name)",
      "execution_count": null,
      "outputs": []
    },
    {
      "metadata": {},
      "cell_type": "markdown",
      "source": "We use the `+` operation here to add (or, as programmers say, *concatenate*) two strings together. Adding strings is not the same as adding numbers, as you can see from the example below:"
    },
    {
      "metadata": {
        "trusted": true
      },
      "cell_type": "code",
      "source": "print(\"13\"+\"7\")\nprint(13+7)",
      "execution_count": 3,
      "outputs": [
        {
          "output_type": "stream",
          "text": "137\n20\n",
          "name": "stdout"
        }
      ]
    },
    {
      "metadata": {},
      "cell_type": "markdown",
      "source": "To summarize:\n * When you write `\"13\"`, or `'13'` - it means a string of two symbols, `1` and `3`\n * When you write 13 - it means a number 13\n * When you write `\"Paul\"` or `'Paul'` - it means a string of 4 symbols\n * When you write `Paul` - it means a variable named *Paul*, and it will be replaced by the value of the variable \n \nTry to guess what happens, when you want to add string `\"13\"` to a number 1. Or vice versa. Let us do some experimentation:"
    },
    {
      "metadata": {
        "trusted": true
      },
      "cell_type": "code",
      "source": "1+\"13\"",
      "execution_count": 8,
      "outputs": [
        {
          "output_type": "error",
          "ename": "TypeError",
          "evalue": "unsupported operand type(s) for +: 'int' and 'str'",
          "traceback": [
            "\u001b[0;31m---------------------------------------------------------------------------\u001b[0m",
            "\u001b[0;31mTypeError\u001b[0m                                 Traceback (most recent call last)",
            "\u001b[0;32m<ipython-input-8-cb4b33bbb86e>\u001b[0m in \u001b[0;36m<module>\u001b[0;34m\u001b[0m\n\u001b[0;32m----> 1\u001b[0;31m \u001b[0;36m1\u001b[0m\u001b[0;34m+\u001b[0m\u001b[0;34m\"13\"\u001b[0m\u001b[0;34m\u001b[0m\u001b[0m\n\u001b[0m",
            "\u001b[0;31mTypeError\u001b[0m: unsupported operand type(s) for +: 'int' and 'str'"
          ]
        }
      ]
    },
    {
      "metadata": {},
      "cell_type": "markdown",
      "source": "You see an example of an **Error message**. This message points to the exact piece of code that causes error, and it also gives an explanation. For example, this error tells us that operation `+` does not support operands of types `int` and `str`, i.e. it does not know how to add strings and numbers together, because this operation does not make sense."
    },
    {
      "metadata": {},
      "cell_type": "markdown",
      "source": "### Modules and Libraries\n\nCore Python programming language contains the basic commands, such as printing, doing calculations, etc. For more complex things, like downloading things from the internet, or creating windows applications, there are special **libraries** (they are also called **modules**, or **packages**), that extend the language.\n\nFor example, `math` module contains a lot of mathematical functions. To use this module, we need to **import** it to our program, but saying `import math`:"
    },
    {
      "metadata": {
        "trusted": true
      },
      "cell_type": "code",
      "source": "import math\nmath.sin(math.pi/2)",
      "execution_count": 9,
      "outputs": [
        {
          "output_type": "execute_result",
          "execution_count": 9,
          "data": {
            "text/plain": "1.0"
          },
          "metadata": {}
        }
      ]
    },
    {
      "metadata": {},
      "cell_type": "markdown",
      "source": "Some modules (like `math`) are built into any Python distribution, while others are distributed through centralized package repository [PyPI](http://pypi.org). You can install any package from that repository using special operating system command `pip`, like this:"
    },
    {
      "metadata": {
        "trusted": true
      },
      "cell_type": "code",
      "source": "!pip install --upgrade git+https://github.com/shwars/jturtle",
      "execution_count": 10,
      "outputs": [
        {
          "output_type": "stream",
          "text": "Collecting git+https://github.com/shwars/jturtle\n  Cloning https://github.com/shwars/jturtle to /tmp/pip-req-build-uq_1_4ck\n  Running command git clone -q https://github.com/shwars/jturtle /tmp/pip-req-build-uq_1_4ck\nRequirement already satisfied, skipping upgrade: matplotlib in /home/nbuser/anaconda3_501/lib/python3.6/site-packages (from jturtle==0.0.1) (3.0.0)\nRequirement already satisfied, skipping upgrade: numpy>=1.10.0 in /home/nbuser/anaconda3_501/lib/python3.6/site-packages (from matplotlib->jturtle==0.0.1) (1.16.2)\nRequirement already satisfied, skipping upgrade: cycler>=0.10 in /home/nbuser/anaconda3_501/lib/python3.6/site-packages (from matplotlib->jturtle==0.0.1) (0.10.0)\nRequirement already satisfied, skipping upgrade: kiwisolver>=1.0.1 in /home/nbuser/anaconda3_501/lib/python3.6/site-packages (from matplotlib->jturtle==0.0.1) (1.0.1)\nRequirement already satisfied, skipping upgrade: pyparsing!=2.0.4,!=2.1.2,!=2.1.6,>=2.0.1 in /home/nbuser/anaconda3_501/lib/python3.6/site-packages (from matplotlib->jturtle==0.0.1) (2.3.0)\nRequirement already satisfied, skipping upgrade: python-dateutil>=2.1 in /home/nbuser/anaconda3_501/lib/python3.6/site-packages (from matplotlib->jturtle==0.0.1) (2.8.1)\nRequirement already satisfied, skipping upgrade: six in /home/nbuser/anaconda3_501/lib/python3.6/site-packages (from cycler>=0.10->matplotlib->jturtle==0.0.1) (1.11.0)\nRequirement already satisfied, skipping upgrade: setuptools in /home/nbuser/anaconda3_501/lib/python3.6/site-packages (from kiwisolver>=1.0.1->matplotlib->jturtle==0.0.1) (41.6.0)\nBuilding wheels for collected packages: jturtle\n  Building wheel for jturtle (setup.py) ... \u001b[?25ldone\n\u001b[?25h  Created wheel for jturtle: filename=jturtle-0.0.1-cp36-none-any.whl size=4181 sha256=d37429315f1c542be6adf5e18cc89560fe3ad65ab4c29f04dd240d968701f478\n  Stored in directory: /tmp/pip-ephem-wheel-cache-f8bdnlis/wheels/b1/a0/cf/69a10443fbbdf891a264a294fcf77e4d1f855ee985df6fb98d\nSuccessfully built jturtle\nInstalling collected packages: jturtle\nSuccessfully installed jturtle-0.0.1\n\u001b[33mWARNING: You are using pip version 19.3.1; however, version 20.0.1 is available.\nYou should consider upgrading via the 'pip install --upgrade pip' command.\u001b[0m\n",
          "name": "stdout"
        }
      ]
    },
    {
      "metadata": {},
      "cell_type": "markdown",
      "source": "If you do not completely understand what is going on --- do not worry. In short --- we have downloaded and installed the library, and now we can import and use it in our programs. The exclamation mark `!` in the beginning of the command means it is not a Python command, but a command for the operating system."
    },
    {
      "metadata": {},
      "cell_type": "markdown",
      "source": "### Turtle Graphics\n\nThe library we have just installed allows us to use some simple drawing commands --- so-called **Turtle graphics**. Those commands control an imaginary *turtle*, which can move across the screen, turn around, and so on --- leaving the trace behind. For example, if I want to draw a triangle, I can use the following commands:"
    },
    {
      "metadata": {
        "trusted": true
      },
      "cell_type": "code",
      "source": "import jturtle as turtle\nturtle.forward(100)\nturtle.right(120)\nturtle.forward(100)\nturtle.right(120)\nturtle.forward(100)\nturtle.right(120)\nturtle.done()",
      "execution_count": 12,
      "outputs": [
        {
          "output_type": "display_data",
          "data": {
            "image/png": "[encoded data removed]",
            "text/plain": "<Figure size 432x288 with 1 Axes>"
          },
          "metadata": {
            "needs_background": "light"
          }
        }
      ]
    },
    {
      "metadata": {},
      "cell_type": "markdown",
      "source": "First of all, the command `import jturtle as turtle` imports the module, and changes the name to `turtle` --- this name sounds a bit nicer. If you want to save on typing, you can say `import jturtle as T`, and use `T` instead of `turtle`.\n\nCommands like `turtle.forward` tell turtle to do something. The most important commands are:\n * `turtle.forward(n)` -- move `n` units forward\n * `turtle.back(n)` -- move `n` units backwards\n * `turtle.left(n)` and `turtle.right(n)` -- turn `n` degrees left or right\n * `turtle.penup()` and `turtle.pendown()` allows to control whether turtle leaves the trace behind or now\n * `turtle.done()` tells the turtle that the drawing is over, and it should be displayed on the screen\n \n If you want to see how the drawing was created step-by-step, you can use `turtle.done(step_by_step=True)`, or just `turtle.done(True)`:"
    },
    {
      "metadata": {
        "trusted": true
      },
      "cell_type": "code",
      "source": "turtle.forward(100)\nturtle.right(90)\nturtle.forward(100)\nturtle.right(90)\nturtle.forward(100)\nturtle.right(90)\nturtle.forward(100)\nturtle.right(90)\nturtle.done(True)",
      "execution_count": 14,
      "outputs": [
        {
          "output_type": "display_data",
          "data": {
            "image/png": "[encoded data removed]",
            "text/plain": "<Figure size 432x288 with 4 Axes>"
          },
          "metadata": {
            "needs_background": "light"
          }
        }
      ]
    },
    {
      "metadata": {
        "trusted": false
      },
      "cell_type": "markdown",
      "source": "Here, we can see that the turtle first moved up 100 points, then turned right, went forward for another 100 points, and so on. Repeating those actions 4 times we end up with a square.\n\nThose were very simple drawings, but as we will see later --- computers are very good at repeating and composing together simple steps to get more complex results. We will see some examples of very beautiful drawings created using the same approach of turtle graphics."
    },
    {
      "metadata": {},
      "cell_type": "markdown",
      "source": "### An Exercise\n\nBefore going to the next chapter, we want you to do a couple of simple exercices for me.\n\n1. Suppose you put a certain amount of money into a bank deposit (say, \\$100). This amount increases at the rate 2.5% per year. Calculate the amount that you will have after 1, 2 and 3 years.\n2. To practice turtle graphics, please draw a simple house, like the one shown below. Please, note that in order to move the turtle without leaving a trace, you need to execute `turtle.penup()` command.\n![Simple House](images/house.png)"
    },
    {
      "metadata": {
        "trusted": true
      },
      "cell_type": "code",
      "source": "",
      "execution_count": null,
      "outputs": []
    }
  ],
  "metadata": {
    "kernelspec": {
      "name": "python36",
      "display_name": "Python 3.6",
      "language": "python"
    },
    "language_info": {
      "mimetype": "text/x-python",
      "nbconvert_exporter": "python",
      "name": "python",
      "pygments_lexer": "ipython3",
      "version": "3.6.6",
      "file_extension": ".py",
      "codemirror_mode": {
        "version": 3,
        "name": "ipython"
      }
    }
  },
  "nbformat": 4,
  "nbformat_minor": 2
}